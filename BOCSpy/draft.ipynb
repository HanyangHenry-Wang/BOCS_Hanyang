{
 "cells": [
  {
   "cell_type": "code",
   "execution_count": 1,
   "metadata": {},
   "outputs": [],
   "source": [
    "import numpy as np"
   ]
  },
  {
   "cell_type": "code",
   "execution_count": 3,
   "metadata": {},
   "outputs": [],
   "source": [
    "n_vars = 5\n",
    "i = np.linspace(1,n_vars,n_vars)\n",
    "j = np.linspace(1,n_vars,n_vars)"
   ]
  },
  {
   "cell_type": "code",
   "execution_count": 4,
   "metadata": {},
   "outputs": [],
   "source": [
    "alpha = 5\n",
    "K = lambda s,t: np.exp(-1*(s-t)**2/alpha)\n",
    "decay = K(i[:,None], j[None,:])"
   ]
  },
  {
   "cell_type": "code",
   "execution_count": 5,
   "metadata": {},
   "outputs": [
    {
     "data": {
      "text/plain": [
       "array([[1.        , 0.81873075, 0.44932896, 0.16529889, 0.0407622 ],\n",
       "       [0.81873075, 1.        , 0.81873075, 0.44932896, 0.16529889],\n",
       "       [0.44932896, 0.81873075, 1.        , 0.81873075, 0.44932896],\n",
       "       [0.16529889, 0.44932896, 0.81873075, 1.        , 0.81873075],\n",
       "       [0.0407622 , 0.16529889, 0.44932896, 0.81873075, 1.        ]])"
      ]
     },
     "execution_count": 5,
     "metadata": {},
     "output_type": "execute_result"
    }
   ],
   "source": [
    "decay"
   ]
  },
  {
   "cell_type": "code",
   "execution_count": 6,
   "metadata": {},
   "outputs": [
    {
     "name": "stdout",
     "output_type": "stream",
     "text": [
      "[[ 0.31121658 -0.57366826  0.44053904  0.79001079  0.14945572]\n",
      " [ 0.19932318 -1.14881813 -0.73797069  2.08922317  1.74994914]\n",
      " [ 0.51987358 -1.2918637  -2.10773808 -1.21962912  0.35629498]\n",
      " [-0.013726    0.96579849 -2.33342558 -0.53669749 -0.63985531]\n",
      " [ 1.30949654  0.72152244  0.92857659  0.34173534 -0.48018302]]\n"
     ]
    }
   ],
   "source": [
    "Q  = np.random.randn(n_vars, n_vars)\n",
    "print(Q)"
   ]
  },
  {
   "cell_type": "code",
   "execution_count": 7,
   "metadata": {},
   "outputs": [
    {
     "data": {
      "text/plain": [
       "array([[ 0.31121658, -0.46967985,  0.19794695,  0.1305879 ,  0.00609214],\n",
       "       [ 0.16319202, -1.14881813, -0.6041993 ,  0.93874848,  0.28926465],\n",
       "       [ 0.23359426, -1.05768854, -2.10773808, -0.99854787,  0.16009365],\n",
       "       [-0.00226889,  0.43396124, -1.91044729, -0.53669749, -0.52386922],\n",
       "       [ 0.05337797,  0.11926686,  0.41723636,  0.27978923, -0.48018302]])"
      ]
     },
     "execution_count": 7,
     "metadata": {},
     "output_type": "execute_result"
    }
   ],
   "source": [
    "Qa = Q*decay\n",
    "Qa"
   ]
  }
 ],
 "metadata": {
  "kernelspec": {
   "display_name": "bocs",
   "language": "python",
   "name": "python3"
  },
  "language_info": {
   "codemirror_mode": {
    "name": "ipython",
    "version": 3
   },
   "file_extension": ".py",
   "mimetype": "text/x-python",
   "name": "python",
   "nbconvert_exporter": "python",
   "pygments_lexer": "ipython3",
   "version": "3.8.18"
  },
  "orig_nbformat": 4
 },
 "nbformat": 4,
 "nbformat_minor": 2
}
